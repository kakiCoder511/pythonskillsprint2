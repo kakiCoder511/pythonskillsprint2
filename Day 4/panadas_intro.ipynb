{
 "cells": [
  {
   "cell_type": "code",
   "execution_count": 1,
   "id": "67df477c-d1e7-4683-a4bc-dfcb78e6ca48",
   "metadata": {},
   "outputs": [],
   "source": [
    "import pandas as pd\n"
   ]
  },
  {
   "cell_type": "code",
   "execution_count": 4,
   "id": "3439ca19-7ce7-408c-b1a9-d58a0fc01248",
   "metadata": {},
   "outputs": [
    {
     "name": "stdout",
     "output_type": "stream",
     "text": [
      "0    10\n",
      "1    20\n",
      "2    30\n",
      "3    40\n",
      "4    50\n",
      "dtype: int64\n"
     ]
    }
   ],
   "source": [
    "#Series in pandas - 1D\n",
    "data = [10, 20, 30, 40, 50]\n",
    "series = pd.Series(data)\n",
    "print(series)\n"
   ]
  },
  {
   "cell_type": "code",
   "execution_count": 8,
   "id": "abc76e9b-31e3-42c5-b3f4-9370b2d17baa",
   "metadata": {},
   "outputs": [
    {
     "name": "stdout",
     "output_type": "stream",
     "text": [
      "values: [10 20 30 40 50]\n",
      "RangeIndex(start=0, stop=5, step=1)\n"
     ]
    }
   ],
   "source": [
    "#access on your series\n",
    "#values\n",
    "print(\"values:\", series.values)\n",
    "#index\n",
    "print(series.index)"
   ]
  },
  {
   "cell_type": "code",
   "execution_count": 17,
   "id": "2daf0cbd-ffd5-49aa-a27b-922048311687",
   "metadata": {},
   "outputs": [
    {
     "name": "stdout",
     "output_type": "stream",
     "text": [
      "14\n",
      "20\n",
      "Mon    18\n",
      "Tue    20\n",
      "Wed    19\n",
      "Thu    17\n",
      "Fri    14\n",
      "dtype: int64\n"
     ]
    }
   ],
   "source": [
    "#Create a series of 5 temperatures\n",
    "temp_range = pd.Series([18,20,19,17,14])\n",
    "\n",
    "#Print the max and min\n",
    "\n",
    "print(temp_range.min())\n",
    "print(temp_range.max())\n",
    "\n",
    "\n",
    "#Change the index to be days of the week instead of numbers\n",
    "temp_range.index =[\"Mon\", \"Tue\", \"Wed\", \"Thu\", \"Fri\"]\n",
    "print(temp_range)"
   ]
  },
  {
   "cell_type": "code",
   "execution_count": 23,
   "id": "3c98af17-5025-4bea-80c4-56e8772e352b",
   "metadata": {},
   "outputs": [
    {
     "name": "stdout",
     "output_type": "stream",
     "text": [
      "    Name  Age       City\n",
      "0  Ollie   32    Reading\n",
      "1    Sam   27     London\n",
      "2   Luke   27  The North\n",
      "3   Liam   30     London\n"
     ]
    }
   ],
   "source": [
    "#DATAFRAMES\n",
    "data = {\n",
    "    \"Name\": [ \"Ollie\", \"Sam\", \"Luke\", \"Liam\"],\n",
    "    \"Age\" : [32, 27, 27,30],\n",
    "    \"City\": [\"Reading\",\"London\",\"The North\",\"London\"]\n",
    "}\n",
    "df = pd.DataFrame(data)\n",
    "print(df)"
   ]
  },
  {
   "cell_type": "code",
   "execution_count": 30,
   "id": "93cbaa10-2882-4648-9ccd-8d58c7a2a89d",
   "metadata": {},
   "outputs": [
    {
     "name": "stdout",
     "output_type": "stream",
     "text": [
      "  products  price  quantity\n",
      "0     Nike    100        22\n",
      "1   Adidas     90        32\n",
      "2     Hoka    120        20\n",
      "  products  price  quantity  total value\n",
      "0     Nike    100        22         2200\n",
      "1   Adidas     90        32         2880\n",
      "2     Hoka    120        20         2400\n"
     ]
    }
   ],
   "source": [
    "#Create a DataFrame of 3 products with name, price, and quantity, each should have 3 values in\n",
    "dataP = {\"products\":[\"Nike\",\"Adidas\",\"Hoka\"],\n",
    "         \"price\":[100,90,120],\n",
    "         \"quantity\":[22,32,20]\n",
    "        }\n",
    "dfP = pd.DataFrame(dataP)\n",
    "print(dfP)\n",
    "\n",
    "\n",
    "#Add a new column for “total value” (price × quantity).\n",
    "dfP[\"total value\"] = dfP[\"price\"] * dfP[\"quantity\"]\n",
    "\n",
    "print(dfP)\n"
   ]
  },
  {
   "cell_type": "code",
   "execution_count": null,
   "id": "41bb87d7-41d8-43f1-9dbb-d3c9ede446f7",
   "metadata": {},
   "outputs": [],
   "source": []
  }
 ],
 "metadata": {
  "kernelspec": {
   "display_name": "Python 3 (ipykernel)",
   "language": "python",
   "name": "python3"
  },
  "language_info": {
   "codemirror_mode": {
    "name": "ipython",
    "version": 3
   },
   "file_extension": ".py",
   "mimetype": "text/x-python",
   "name": "python",
   "nbconvert_exporter": "python",
   "pygments_lexer": "ipython3",
   "version": "3.13.7"
  }
 },
 "nbformat": 4,
 "nbformat_minor": 5
}
