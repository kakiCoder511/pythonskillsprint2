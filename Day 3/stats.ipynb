{
 "cells": [
  {
   "cell_type": "code",
   "execution_count": 1,
   "id": "79bb715b-9dc2-41b5-ae2a-2fbc547fb523",
   "metadata": {},
   "outputs": [],
   "source": [
    "import numpy as np\n"
   ]
  },
  {
   "cell_type": "code",
   "execution_count": 2,
   "id": "b56518a9-166c-46fe-a518-0f7dbdcc8ac0",
   "metadata": {},
   "outputs": [
    {
     "name": "stdout",
     "output_type": "stream",
     "text": [
      "dice rools [4 3 6 4 1 5 3 3 4 2]\n"
     ]
    }
   ],
   "source": [
    "# create some random its in an array\n",
    "dice = np.random.randint(1,7, size =10)\n",
    "print(\"dice rools\", dice)"
   ]
  },
  {
   "cell_type": "code",
   "execution_count": 3,
   "id": "656226fd-0f2b-49a5-9a6b-e3872024007e",
   "metadata": {},
   "outputs": [
    {
     "name": "stdout",
     "output_type": "stream",
     "text": [
      "random floats [0.84278222 0.80436722 0.8021654  0.0355674  0.46562218]\n"
     ]
    }
   ],
   "source": [
    "#random floats\n",
    "rand_floats = np.random.rand(5)\n",
    "print(\"random floats\", rand_floats)\n"
   ]
  },
  {
   "cell_type": "code",
   "execution_count": 4,
   "id": "963654ed-e87d-4cde-b982-ed5b5e62c501",
   "metadata": {},
   "outputs": [
    {
     "name": "stdout",
     "output_type": "stream",
     "text": [
      "[0.60797416 0.14408568 0.46355637 0.59364348 1.46042004]\n"
     ]
    }
   ],
   "source": [
    "#standard deviation\n",
    "norm_samples = np.random.randn(5)\n",
    "print(norm_samples)"
   ]
  },
  {
   "cell_type": "code",
   "execution_count": 19,
   "id": "a686d04c-4a76-43b7-aebd-0067341fe044",
   "metadata": {},
   "outputs": [
    {
     "name": "stdout",
     "output_type": "stream",
     "text": [
      "20 dice rolls [2 6 3 3 5 1 2 4 1 1 2 3 1 3 3 4 3 3 4 3]\n",
      "max roll: 6\n",
      "min roll: 1\n",
      "random 10 floats [5.96144156 4.26099869 0.39710152 8.08878183 5.70051089 4.7094413\n",
      " 5.74035075 5.17618061 4.4632808  6.73608115]\n",
      "get the first 10:  [0.12496073 0.56693932 0.12174224 0.60113874 0.13985507 0.90508884\n",
      " 0.72908878 0.99818403 0.6842502  0.64318155]\n"
     ]
    }
   ],
   "source": [
    "#Generate 20 dice rolls and find the min and max.\n",
    "dice20 = np.random.randint(1,7, size =20)\n",
    "print(\"20 dice rolls\", dice20)\n",
    "\n",
    "max_roll = dice20.max()\n",
    "min_roll = dice20.min()\n",
    "\n",
    "print(\"max roll:\" ,max_roll)\n",
    "print(\"min roll:\", min_roll)\n",
    "\n",
    "#Create an array of 10 random floats between 0 and 10. - Why do we have to use uniform\n",
    "rand_10floats = np.random.uniform(0,10,10)\n",
    "print(\"random 10 floats\", rand_10floats)\n",
    "\n",
    "#Generate 1000 samples from a normal distribution and inspect the first 10.\n",
    "\n",
    "normal_samps = np.random.rand(1000)\n",
    "print(\"get the first 10: \",normal_samps[:10])"
   ]
  },
  {
   "cell_type": "code",
   "execution_count": 21,
   "id": "3e3c4058-5d12-428b-9405-16a2e9c6493b",
   "metadata": {},
   "outputs": [
    {
     "name": "stdout",
     "output_type": "stream",
     "text": [
      "sum 193\n"
     ]
    }
   ],
   "source": [
    "# Use the dice rolls\n",
    "dice = np.random.randint(1,7, size=50)\n",
    "\n",
    "# find the methods to give you the sum, mean, median, standard deviation, min, max\n",
    "print(\"sum\", np.sum(dice))"
   ]
  },
  {
   "cell_type": "code",
   "execution_count": 22,
   "id": "b7ad5dd8-7852-4102-8272-b0b42b81e123",
   "metadata": {},
   "outputs": [
    {
     "name": "stdout",
     "output_type": "stream",
     "text": [
      "mean 3.86\n"
     ]
    }
   ],
   "source": [
    "print(\"mean\", dice.mean())"
   ]
  },
  {
   "cell_type": "code",
   "execution_count": 30,
   "id": "66f4969e-553c-40c1-98da-420db20814b2",
   "metadata": {},
   "outputs": [
    {
     "name": "stdout",
     "output_type": "stream",
     "text": [
      "median 4.0\n"
     ]
    }
   ],
   "source": [
    "print(\"median\", np.median(dice))\n"
   ]
  },
  {
   "cell_type": "code",
   "execution_count": 27,
   "id": "80f3fd15-ec63-4b52-a2f4-409eab5f8f21",
   "metadata": {},
   "outputs": [
    {
     "name": "stdout",
     "output_type": "stream",
     "text": [
      "standard deviation 1.6734395716607158\n"
     ]
    }
   ],
   "source": [
    "print(\"standard deviation\", np.std(dice))\n"
   ]
  },
  {
   "cell_type": "code",
   "execution_count": 25,
   "id": "351732ab-17c7-4f52-9c11-e84aa8383c84",
   "metadata": {},
   "outputs": [
    {
     "name": "stdout",
     "output_type": "stream",
     "text": [
      "min 1\n"
     ]
    }
   ],
   "source": [
    "print(\"min\", np.min(dice))"
   ]
  },
  {
   "cell_type": "code",
   "execution_count": 26,
   "id": "9c18e3bd-afb9-414d-8c8c-aa637c9fd88e",
   "metadata": {},
   "outputs": [
    {
     "name": "stdout",
     "output_type": "stream",
     "text": [
      "max 6\n"
     ]
    }
   ],
   "source": [
    "print(\"max\",np.max(dice))"
   ]
  },
  {
   "cell_type": "code",
   "execution_count": null,
   "id": "d2d756fe-7fd5-48dc-a3ae-c7ccebb8d0a7",
   "metadata": {},
   "outputs": [],
   "source": []
  }
 ],
 "metadata": {
  "kernelspec": {
   "display_name": "Python 3 (ipykernel)",
   "language": "python",
   "name": "python3"
  },
  "language_info": {
   "codemirror_mode": {
    "name": "ipython",
    "version": 3
   },
   "file_extension": ".py",
   "mimetype": "text/x-python",
   "name": "python",
   "nbconvert_exporter": "python",
   "pygments_lexer": "ipython3",
   "version": "3.13.7"
  }
 },
 "nbformat": 4,
 "nbformat_minor": 5
}
