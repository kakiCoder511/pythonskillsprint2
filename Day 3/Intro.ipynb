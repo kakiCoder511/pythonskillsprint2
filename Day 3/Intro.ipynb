{
 "cells": [
  {
   "cell_type": "code",
   "execution_count": 3,
   "id": "3ea42e30-798c-4a5a-8a57-53154e67a0cf",
   "metadata": {},
   "outputs": [
    {
     "ename": "ModuleNotFoundError",
     "evalue": "No module named 'numpy'",
     "output_type": "error",
     "traceback": [
      "\u001b[31m---------------------------------------------------------------------------\u001b[39m",
      "\u001b[31mModuleNotFoundError\u001b[39m                       Traceback (most recent call last)",
      "\u001b[36mCell\u001b[39m\u001b[36m \u001b[39m\u001b[32mIn[3]\u001b[39m\u001b[32m, line 1\u001b[39m\n\u001b[32m----> \u001b[39m\u001b[32m1\u001b[39m \u001b[38;5;28;01mimport\u001b[39;00m\u001b[38;5;250m \u001b[39m\u001b[34;01mnumpy\u001b[39;00m\u001b[38;5;250m \u001b[39m\u001b[38;5;28;01mas\u001b[39;00m\u001b[38;5;250m \u001b[39m\u001b[34;01mnp\u001b[39;00m\n",
      "\u001b[31mModuleNotFoundError\u001b[39m: No module named 'numpy'"
     ]
    }
   ],
   "source": [
    "import numpy as np"
   ]
  },
  {
   "cell_type": "code",
   "execution_count": 2,
   "id": "a3dd0ad2-d8a1-464f-8ff9-f639f59dd8d6",
   "metadata": {},
   "outputs": [
    {
     "ename": "ModuleNotFoundError",
     "evalue": "No module named 'numpy'",
     "output_type": "error",
     "traceback": [
      "\u001b[31m---------------------------------------------------------------------------\u001b[39m",
      "\u001b[31mModuleNotFoundError\u001b[39m                       Traceback (most recent call last)",
      "\u001b[36mCell\u001b[39m\u001b[36m \u001b[39m\u001b[32mIn[2]\u001b[39m\u001b[32m, line 1\u001b[39m\n\u001b[32m----> \u001b[39m\u001b[32m1\u001b[39m \u001b[38;5;28;01mimport\u001b[39;00m\u001b[38;5;250m \u001b[39m\u001b[34;01mnumpy\u001b[39;00m\u001b[38;5;250m \u001b[39m\u001b[38;5;28;01mas\u001b[39;00m\u001b[38;5;250m \u001b[39m\u001b[34;01mnp\u001b[39;00m\n",
      "\u001b[31mModuleNotFoundError\u001b[39m: No module named 'numpy'"
     ]
    }
   ],
   "source": [
    "import numpy as np"
   ]
  },
  {
   "cell_type": "code",
   "execution_count": 4,
   "id": "4578bfc0-33f7-4f06-bf91-3d3b48a8cc95",
   "metadata": {},
   "outputs": [
    {
     "ename": "ModuleNotFoundError",
     "evalue": "No module named 'numpy'",
     "output_type": "error",
     "traceback": [
      "\u001b[31m---------------------------------------------------------------------------\u001b[39m",
      "\u001b[31mModuleNotFoundError\u001b[39m                       Traceback (most recent call last)",
      "\u001b[36mCell\u001b[39m\u001b[36m \u001b[39m\u001b[32mIn[4]\u001b[39m\u001b[32m, line 1\u001b[39m\n\u001b[32m----> \u001b[39m\u001b[32m1\u001b[39m \u001b[38;5;28;01mimport\u001b[39;00m\u001b[38;5;250m \u001b[39m\u001b[34;01mnumpy\u001b[39;00m\u001b[38;5;250m \u001b[39m\u001b[38;5;28;01mas\u001b[39;00m\u001b[38;5;250m \u001b[39m\u001b[34;01mnp\u001b[39;00m\n",
      "\u001b[31mModuleNotFoundError\u001b[39m: No module named 'numpy'"
     ]
    }
   ],
   "source": [
    "import numpy as np"
   ]
  },
  {
   "cell_type": "code",
   "execution_count": 5,
   "id": "b05464ce-235e-430e-aac3-1e3500bcc13f",
   "metadata": {},
   "outputs": [
    {
     "name": "stdout",
     "output_type": "stream",
     "text": [
      "Collecting numpy\n",
      "  Downloading numpy-2.3.3-cp313-cp313-macosx_14_0_arm64.whl.metadata (62 kB)\n",
      "Downloading numpy-2.3.3-cp313-cp313-macosx_14_0_arm64.whl (5.1 MB)\n",
      "\u001b[2K   \u001b[90m━━━━━━━━━━━━━━━━━━━━━━━━━━━━━━━━━━━━━━━━\u001b[0m \u001b[32m5.1/5.1 MB\u001b[0m \u001b[31m1.6 MB/s\u001b[0m  \u001b[33m0:00:03\u001b[0m eta \u001b[36m0:00:01\u001b[0m\n",
      "\u001b[?25hInstalling collected packages: numpy\n",
      "Successfully installed numpy-2.3.3\n",
      "Note: you may need to restart the kernel to use updated packages.\n"
     ]
    }
   ],
   "source": [
    "pip install numpy\n"
   ]
  },
  {
   "cell_type": "code",
   "execution_count": 6,
   "id": "d6b59659-4d1c-4504-8cff-df864da60d99",
   "metadata": {},
   "outputs": [],
   "source": [
    "import numpy as np"
   ]
  },
  {
   "cell_type": "code",
   "execution_count": 8,
   "id": "fcdc3a54-6af4-4cd2-8097-85810b261f9c",
   "metadata": {},
   "outputs": [
    {
     "name": "stdout",
     "output_type": "stream",
     "text": [
      "[1, 2, 3, 4]\n"
     ]
    }
   ],
   "source": [
    "#Create an array in Python\n",
    "numbers =[1,2,3,4]\n",
    "print(numbers)\n",
    "# turned that python array into a numpy array\n",
    "array = np.array(numbers)"
   ]
  },
  {
   "cell_type": "code",
   "execution_count": 9,
   "id": "207731ee-fba6-47c5-9bd3-0f87a85b47b1",
   "metadata": {},
   "outputs": [
    {
     "name": "stdout",
     "output_type": "stream",
     "text": [
      "[1 2 3 4]\n"
     ]
    }
   ],
   "source": [
    "print(array)"
   ]
  },
  {
   "cell_type": "code",
   "execution_count": 11,
   "id": "55d0fb88-65a7-406a-8df7-a183e269f570",
   "metadata": {},
   "outputs": [
    {
     "name": "stdout",
     "output_type": "stream",
     "text": [
      "[2 4 6 8]\n"
     ]
    }
   ],
   "source": [
    "doubled = array *2\n",
    "print(doubled)\n"
   ]
  },
  {
   "cell_type": "code",
   "execution_count": 12,
   "id": "e75389b5-313f-4c5c-84a3-bd550f595383",
   "metadata": {},
   "outputs": [
    {
     "name": "stdout",
     "output_type": "stream",
     "text": [
      "[[0. 0. 0.]\n",
      " [0. 0. 0.]]\n"
     ]
    }
   ],
   "source": [
    "#zeros\n",
    "zeros =np.zeros((2,3))\n",
    "print(zeros)\n"
   ]
  },
  {
   "cell_type": "code",
   "execution_count": 13,
   "id": "2499322d-b40d-4e9f-9c6a-cd1b9e70a022",
   "metadata": {},
   "outputs": [
    {
     "name": "stdout",
     "output_type": "stream",
     "text": [
      "[1. 1. 1.]\n"
     ]
    }
   ],
   "source": [
    "#ones\n",
    "ones = np.ones((3,))\n",
    "print(ones)\n"
   ]
  },
  {
   "cell_type": "code",
   "execution_count": 17,
   "id": "8b8b9f7c-c445-449d-b9c7-a1d77e215435",
   "metadata": {},
   "outputs": [
    {
     "name": "stdout",
     "output_type": "stream",
     "text": [
      "[0 2 4 6 8]\n"
     ]
    }
   ],
   "source": [
    "#RANGE_ARRAY\n",
    "range_array = np.arange(0,10,2)\n",
    "print(range_array)\n"
   ]
  },
  {
   "cell_type": "code",
   "execution_count": 22,
   "id": "38865544-6040-4158-b289-bdf28ea0f90b",
   "metadata": {},
   "outputs": [
    {
     "name": "stdout",
     "output_type": "stream",
     "text": [
      "[0 1 2 3 4 5 6 7 8 9]\n",
      "[[1. 1. 1. 1.]\n",
      " [1. 1. 1. 1.]\n",
      " [1. 1. 1. 1.]\n",
      " [1. 1. 1. 1.]]\n",
      "[0.   0.25 0.5  0.75 1.  ]\n"
     ]
    }
   ],
   "source": [
    "#Create an array of numbers from 0–9\n",
    "array0to9 = np.arange(0,10)\n",
    "print(array0to9)\n",
    "#Create a 4×4 matrix of ones.\n",
    "fours = np.ones((4,4))\n",
    "print(fours)\n",
    "#Create 5 evenly spaced numbers between 0 and 1 using np.linspace.\n",
    "array3 = np.linspace(0,1,5)\n",
    "print(array3)"
   ]
  },
  {
   "cell_type": "code",
   "execution_count": 23,
   "id": "feb01e96-885b-4311-a8a9-00926ffbe80c",
   "metadata": {},
   "outputs": [],
   "source": [
    "#Indexing and slicing\n"
   ]
  },
  {
   "cell_type": "code",
   "execution_count": 30,
   "id": "00af15ff-c1e3-4a4d-91f4-3896c9ecc1ad",
   "metadata": {},
   "outputs": [
    {
     "name": "stdout",
     "output_type": "stream",
     "text": [
      "first element 10\n",
      "last element 50\n",
      "first three [10 20 30]\n",
      "every other element [10 30 50]\n"
     ]
    }
   ],
   "source": [
    "array5 = np.array([10,20,30,40,50])\n",
    "\n",
    "#indexing\n",
    "#get the first element from array5\n",
    "print(\"first element\", array5[0])\n",
    "    \n",
    "#get the last element from array5\n",
    "print(\"last element\", array5[-1])\n",
    "#print\n",
    "print(\"first three\", array5[0:3])\n",
    "#print every other element\n",
    "print(\"every other element\", array5[::2])"
   ]
  },
  {
   "cell_type": "code",
   "execution_count": 33,
   "id": "06aa294f-7b5e-43d4-a547-21f77cbab15f",
   "metadata": {},
   "outputs": [
    {
     "name": "stdout",
     "output_type": "stream",
     "text": [
      "[[1. 0. 0. 0.]\n",
      " [0. 1. 0. 0.]\n",
      " [0. 0. 1. 0.]\n",
      " [0. 0. 0. 1.]]\n"
     ]
    }
   ],
   "source": [
    "arryeye = np.eye(4)\n",
    "print(arryeye)"
   ]
  },
  {
   "cell_type": "code",
   "execution_count": 34,
   "id": "6754135b-36e0-45f5-8cb7-94717e10e5cf",
   "metadata": {},
   "outputs": [
    {
     "name": "stdout",
     "output_type": "stream",
     "text": [
      "[[7 7 7]\n",
      " [7 7 7]\n",
      " [7 7 7]]\n"
     ]
    }
   ],
   "source": [
    "array7 = np.full((3,3),7)\n",
    "print(array7)"
   ]
  },
  {
   "cell_type": "code",
   "execution_count": 40,
   "id": "45c6a92d-c058-4311-befb-034c01b2a3b8",
   "metadata": {},
   "outputs": [
    {
     "name": "stdout",
     "output_type": "stream",
     "text": [
      "full matrix array [[1 2 3]\n",
      " [4 5 6]\n",
      " [7 8 9]]\n"
     ]
    }
   ],
   "source": [
    "#2d arrays and indexing/ slicing with zero indexing\n",
    "matrix = np.array([[1,2,3],[4,5,6],[7,8,9]])\n",
    "print(\"full matrix array\", matrix)"
   ]
  },
  {
   "cell_type": "code",
   "execution_count": 41,
   "id": "5aa4c45c-a521-48e8-a0c9-6982a7f13001",
   "metadata": {},
   "outputs": [
    {
     "name": "stdout",
     "output_type": "stream",
     "text": [
      "element in row1 , column2    2\n"
     ]
    }
   ],
   "source": [
    "#print the element at row 1 column 2\n",
    "print(\"element in row1 , column2   \", matrix[0,1])"
   ]
  },
  {
   "cell_type": "code",
   "execution_count": 58,
   "id": "9010b363-5e92-4999-be89-bcc5bbd5686b",
   "metadata": {},
   "outputs": [
    {
     "name": "stdout",
     "output_type": "stream",
     "text": [
      "every 2nd number from every row: [2 5 8]\n"
     ]
    }
   ],
   "source": [
    "#pick the second number from every row\n",
    "print(\"every 2nd number from every row:\", matrix[:,1])"
   ]
  },
  {
   "cell_type": "code",
   "execution_count": 51,
   "id": "bf7eeb12-6c8f-4969-9c07-a3b73f5089b3",
   "metadata": {},
   "outputs": [
    {
     "name": "stdout",
     "output_type": "stream",
     "text": [
      " [3 6 9]\n"
     ]
    }
   ],
   "source": [
    "#pick every row and choose the third number \n",
    "print(\"every row choose the third number\", matrix[:,2])"
   ]
  },
  {
   "cell_type": "code",
   "execution_count": 82,
   "id": "b58231bf-3b61-4645-92b5-167b5210a80f",
   "metadata": {},
   "outputs": [
    {
     "name": "stdout",
     "output_type": "stream",
     "text": [
      "the first 5 elements:  [1 2 3 4 5]\n",
      "matrix first 2 row: [[1 2 3]\n",
      " [4 5 6]]\n",
      "the bottom-right 2×2 sub-matrix [[5 6]\n",
      " [8 9]]\n"
     ]
    }
   ],
   "source": [
    "#Create an array of numbers 1–10. Slice out the first 5.\n",
    "array10 = np.arange(1,11)\n",
    "print(\"the first 5 elements: \", array10[:5])\n",
    "\n",
    "#From the matrix above, extract the first two rows.\n",
    "print(\"matrix first 2 row:\", matrix[:2,:])\n",
    "\n",
    "#From the matrix above, extract the bottom-right 2×2 sub-matrix.\n",
    "print(\"the bottom-right 2×2 sub-matrix\", matrix[1:,1:])"
   ]
  },
  {
   "cell_type": "code",
   "execution_count": 83,
   "id": "a41c9eb7-29a8-4165-905f-3a065025b8fa",
   "metadata": {},
   "outputs": [
    {
     "name": "stdout",
     "output_type": "stream",
     "text": [
      "[ 1  2  3  4  5  6  7  8  9 10 11 12]\n"
     ]
    }
   ],
   "source": [
    "#reshaping arrays\n",
    "new_array = np.arange(1,13)\n",
    "print(new_array)"
   ]
  },
  {
   "cell_type": "code",
   "execution_count": 92,
   "id": "1f87567a-8948-4dc3-91d2-7465e42ab708",
   "metadata": {},
   "outputs": [
    {
     "name": "stdout",
     "output_type": "stream",
     "text": [
      "[[ 1  2  3  4]\n",
      " [ 5  6  7  8]\n",
      " [ 9 10 11 12]]\n"
     ]
    }
   ],
   "source": [
    "reshaped = new_array.reshape(3,4)\n",
    "print(reshared)"
   ]
  },
  {
   "cell_type": "code",
   "execution_count": 93,
   "id": "d6aaa81a-f95a-4b87-b3cc-838a7ac6b1a8",
   "metadata": {},
   "outputs": [
    {
     "name": "stdout",
     "output_type": "stream",
     "text": [
      "sub matrx 2x2 top left [[1 2]\n",
      " [5 6]]\n"
     ]
    }
   ],
   "source": [
    "# Extact the submatrix of the top left 2x2\n",
    "print(\"sub matrx 2x2 top left\",reshaped[:2,:2])\n"
   ]
  },
  {
   "cell_type": "code",
   "execution_count": 94,
   "id": "dae27802-03ed-40f3-a682-04f7026b2bef",
   "metadata": {},
   "outputs": [
    {
     "name": "stdout",
     "output_type": "stream",
     "text": [
      "[ 1  2  3  4  5  6  7  8  9 10 11 12]\n"
     ]
    }
   ],
   "source": [
    "#flatten the array back to it original\n",
    "flat = reshaped.flatten()\n",
    "print(flat)"
   ]
  },
  {
   "cell_type": "code",
   "execution_count": 112,
   "id": "6b5c263c-eebb-4650-a6c9-6ffd59a86879",
   "metadata": {},
   "outputs": [
    {
     "name": "stdout",
     "output_type": "stream",
     "text": [
      "reshaped [[ 1  2  3  4]\n",
      " [ 5  6  7  8]\n",
      " [ 9 10 11 12]]\n",
      "Extract the middle two columns [[ 2  3]\n",
      " [ 6  7]\n",
      " [10 11]]\n",
      "[ 1  2  3  4  5  6  7  8  9 10 11 12]\n"
     ]
    }
   ],
   "source": [
    "#Reshape the array of numbers 1–12 into a 4X 3 matrix\n",
    "reshaped2 = new_array.reshape(3,4)\n",
    "print(\"reshaped\",reshaped2)\n",
    "\n",
    "#Extract the middle two columns.\n",
    "print(\"Extract the middle two columns\", reshaped2[:,1:3])\n",
    "\n",
    "#Flatten the result into 1D.\n",
    "flat2 = reshaped2.flatten()\n",
    "print(flat2)"
   ]
  },
  {
   "cell_type": "code",
   "execution_count": null,
   "id": "51469a8b-8321-444f-87e9-e7365e541d00",
   "metadata": {},
   "outputs": [],
   "source": [
    "#How to create arrays from lists and with NumPy functions \n",
    "#How to use indexing a"
   ]
  },
  {
   "cell_type": "code",
   "execution_count": null,
   "id": "d5de33d6-8a20-45d4-acb5-7762e35dbfa2",
   "metadata": {},
   "outputs": [],
   "source": []
  },
  {
   "cell_type": "code",
   "execution_count": null,
   "id": "b547b448-4544-4eeb-ad2f-9121f156a55c",
   "metadata": {},
   "outputs": [],
   "source": []
  }
 ],
 "metadata": {
  "kernelspec": {
   "display_name": "Python 3 (ipykernel)",
   "language": "python",
   "name": "python3"
  },
  "language_info": {
   "codemirror_mode": {
    "name": "ipython",
    "version": 3
   },
   "file_extension": ".py",
   "mimetype": "text/x-python",
   "name": "python",
   "nbconvert_exporter": "python",
   "pygments_lexer": "ipython3",
   "version": "3.13.7"
  }
 },
 "nbformat": 4,
 "nbformat_minor": 5
}
