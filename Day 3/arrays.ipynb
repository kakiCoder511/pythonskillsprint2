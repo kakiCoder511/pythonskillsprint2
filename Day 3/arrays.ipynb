{
 "cells": [
  {
   "cell_type": "code",
   "execution_count": 1,
   "id": "9dc9e451-f5c1-4d15-83a6-e3583295a22a",
   "metadata": {},
   "outputs": [],
   "source": [
    "import numpy as np\n"
   ]
  },
  {
   "cell_type": "code",
   "execution_count": 3,
   "id": "acf9bb08-fdd4-4de6-ab6c-4c64cc382060",
   "metadata": {},
   "outputs": [
    {
     "name": "stdout",
     "output_type": "stream",
     "text": [
      "[1 2 3 4] [10 20 30 40]\n"
     ]
    }
   ],
   "source": [
    "a = np.array([1,2,3,4])\n",
    "b = np.array([10,20,30,40])\n",
    "print(a,b)"
   ]
  },
  {
   "cell_type": "code",
   "execution_count": 9,
   "id": "8009102d-e625-425d-9bea-33a18423abe6",
   "metadata": {},
   "outputs": [
    {
     "name": "stdout",
     "output_type": "stream",
     "text": [
      "Add the arrays together [11 22 33 44]\n",
      "subtracting the array [ -9 -19 -29 -39]\n",
      "multiply [ 10  40  90 160]\n",
      "square root [1.         1.41421356 1.73205081 2.        ]\n",
      "square root [3.16227766 4.47213595 5.47722558 6.32455532]\n",
      "expo [2.20264658e+04 4.85165195e+08 1.06864746e+13 2.35385267e+17]\n"
     ]
    }
   ],
   "source": [
    "#Element operations\n",
    "\n",
    "#addition\n",
    "print(\"Add the arrays together\", a+b)\n",
    "\n",
    "#subtracting\n",
    "print(\"subtracting the array\", 1-b)\n",
    "\n",
    "#multiply\n",
    "print(\"multiply\", a*b)\n",
    "\n",
    "#universal functions\n",
    "print(\"square root\", np.sqrt(a))\n",
    "print(\"square root\", np.sqrt(b))\n",
    "print(\"expo\", np.exp(b))"
   ]
  },
  {
   "cell_type": "code",
   "execution_count": 17,
   "id": "ffb304db-8494-4cb0-9ba3-1a16584d77e9",
   "metadata": {},
   "outputs": [
    {
     "name": "stdout",
     "output_type": "stream",
     "text": [
      "[ 5 10 15] [2 4 6]\n",
      "[ 7 14 21]\n",
      "[3 6 9]\n",
      "[10 40 90]\n",
      "[2.5 2.5 2.5]\n"
     ]
    }
   ],
   "source": [
    "#Create two arrays [5, 10, 15] and [2, 4, 6]. Perform addition, subtraction, multiplication, and division.\n",
    "arrayone = np.array([5,10,15])\n",
    "arraytwo = np.array([2,4,6])\n",
    "print(arrayone , arraytwo)\n",
    "\n",
    "addition = arrayone + arraytwo\n",
    "subtraction = arrayone - arraytwo\n",
    "multiply = arrayone * arraytwo\n",
    "division =arrayone / arraytwo\n",
    "\n",
    "\n",
    "print(addition)\n",
    "\n",
    "print(subtraction)\n",
    "\n",
    "print(multiply)\n",
    "\n",
    "print(division)\n"
   ]
  },
  {
   "cell_type": "code",
   "execution_count": 15,
   "id": "bf424a40-16ae-4ca4-9c02-b2a326b9c8c6",
   "metadata": {},
   "outputs": [
    {
     "name": "stdout",
     "output_type": "stream",
     "text": [
      "[ 125 1000 3375]\n"
     ]
    }
   ],
   "source": [
    "#Compute the cube (**3) of the first array\n",
    "cube = arrayone**3\n",
    "print(cube)"
   ]
  },
  {
   "cell_type": "code",
   "execution_count": 20,
   "id": "08cbc081-b4b4-4b4a-bae8-e95b67798d0b",
   "metadata": {},
   "outputs": [
    {
     "name": "stdout",
     "output_type": "stream",
     "text": [
      "[11 12 13 14 15]\n"
     ]
    }
   ],
   "source": [
    "# Broadcasting\n",
    "arr2 =np.array([1,2,3,4,5])\n",
    "\n",
    "#add\n",
    "print(arr2 +10)\n"
   ]
  },
  {
   "cell_type": "code",
   "execution_count": 22,
   "id": "c219add7-2335-4d8d-adbb-83dc943753cd",
   "metadata": {},
   "outputs": [
    {
     "name": "stdout",
     "output_type": "stream",
     "text": [
      "[[1 2 3]\n",
      " [4 5 6]]\n"
     ]
    }
   ],
   "source": [
    "mat = np.array([[1,2,3],[4,5,6]])\n",
    "print(mat)"
   ]
  },
  {
   "cell_type": "code",
   "execution_count": 25,
   "id": "339e943e-f1d8-4785-9e47-e99b8fbcb0e0",
   "metadata": {},
   "outputs": [
    {
     "name": "stdout",
     "output_type": "stream",
     "text": [
      "add array to exiting matrix [[11 22 33]\n",
      " [14 25 36]]\n"
     ]
    }
   ],
   "source": [
    "# add a new array 10,20,30 to the mat\n",
    "print(\"add array to exiting matrix\", mat+ np.array([10,20,30]))"
   ]
  },
  {
   "cell_type": "code",
   "execution_count": 42,
   "id": "d4b2c6ec-3d79-46b5-b051-ab68f1276488",
   "metadata": {},
   "outputs": [
    {
     "name": "stdout",
     "output_type": "stream",
     "text": [
      "[1. 2. 3. 4.]\n",
      "add np.array([1,2,3])  [[ 2  4  7]\n",
      " [ 3  6  9]\n",
      " [ 8 10 12]]\n",
      "2×3 matrix after adding 10:\n",
      " [[11 12 13]\n",
      " [14 15 16]]\n"
     ]
    }
   ],
   "source": [
    "#Multiply an array [2, 4, 6, 8] by 0.5.\n",
    "arr = np.array([2,4,6,8])\n",
    "print(arr* 0.5)\n",
    "\n",
    "#Create a 3×3 matrix and add np.array([1, 2, 3]) to it.\n",
    "\n",
    "arr2 =np.array([1, 2, 3])\n",
    "matrix3 = np.array([[1,2,4],[2,4,6],[7,8,9]])\n",
    "print(\"add np.array([1,2,3]) \", matrix3 + arr2)\n",
    "\n",
    "\n",
    "#Create a 2×3 matrix and add 10 to all elements.\n",
    "\n",
    "matrix_2x3 = np.array([[1, 2, 3],\n",
    "                       [4, 5, 6]])\n",
    "\n",
    "added_10 = matrix_2x3 + 10\n",
    "\n",
    "print(\"2×3 matrix after adding 10:\\n\", added_10)\n"
   ]
  },
  {
   "cell_type": "code",
   "execution_count": 44,
   "id": "6ed18cad-a0d6-49ed-831d-a39bfcadc9c4",
   "metadata": {},
   "outputs": [
    {
     "name": "stdout",
     "output_type": "stream",
     "text": [
      "Python list time: 0.3451998233795166\n",
      "numpy array time 0.009607315063476562\n"
     ]
    }
   ],
   "source": [
    "import time\n",
    "\n",
    "size = 10_000_000\n",
    "#compare Python list with numpy\n",
    "\n",
    "#Python list\n",
    "list1 = list(range(size))\n",
    "start = time.time()\n",
    "list2 = [ x * 2 for x in list1]\n",
    "print(\"Python list time:\", time.time() - start)\n",
    "\n",
    "#numpy array \n",
    "arr = np.arange(size)\n",
    "start = time.time()\n",
    "arr2 = arr * 2\n",
    "print(\"numpy array time\", time.time() - start)"
   ]
  },
  {
   "cell_type": "code",
   "execution_count": null,
   "id": "f20ef08b-e239-4cb5-bf08-8463443a6665",
   "metadata": {},
   "outputs": [],
   "source": []
  }
 ],
 "metadata": {
  "kernelspec": {
   "display_name": "Python 3 (ipykernel)",
   "language": "python",
   "name": "python3"
  },
  "language_info": {
   "codemirror_mode": {
    "name": "ipython",
    "version": 3
   },
   "file_extension": ".py",
   "mimetype": "text/x-python",
   "name": "python",
   "nbconvert_exporter": "python",
   "pygments_lexer": "ipython3",
   "version": "3.13.7"
  }
 },
 "nbformat": 4,
 "nbformat_minor": 5
}
