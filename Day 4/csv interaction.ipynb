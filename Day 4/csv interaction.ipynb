{
 "cells": [
  {
   "cell_type": "code",
   "execution_count": 1,
   "id": "144d3b1b-a3ca-4a8d-a294-63f0f3fdba68",
   "metadata": {},
   "outputs": [],
   "source": [
    "import pandas as pd\n"
   ]
  },
  {
   "cell_type": "code",
   "execution_count": 4,
   "id": "8e9e1cb0-1379-4dcf-9308-bd61191ae0c4",
   "metadata": {},
   "outputs": [
    {
     "name": "stdout",
     "output_type": "stream",
     "text": [
      "       Name      School Grade  Score\n",
      "0  Student1   West High     A     92\n",
      "1  Student2  South High     F      6\n",
      "2  Student3  North High     D     64\n",
      "3  Student4   West High     B     88\n",
      "4  Student5   West High     A     96\n",
      "         Name      School Grade  Score\n",
      "15  Student16  North High     C     76\n",
      "16  Student17  South High     A     97\n",
      "17  Student18  South High     C     72\n",
      "18  Student19  South High     C     70\n",
      "19  Student20   West High     A     93\n"
     ]
    }
   ],
   "source": [
    "df = pd.read_csv(\"students_with_scores.csv\")\n",
    "\n",
    "#Inspect the first 4 rows using df.\n",
    "\n",
    "print(df.head())\n",
    "\n",
    "#inspect the last 5 rows\n",
    "print(df.tail())\n"
   ]
  },
  {
   "cell_type": "code",
   "execution_count": 24,
   "id": "e8a54f8b-0614-4083-bd4d-f3275e26ca83",
   "metadata": {},
   "outputs": [
    {
     "name": "stdout",
     "output_type": "stream",
     "text": [
      "data frame: (20, 4)\n",
      "Index(['Name', 'School', 'Grade', 'Score'], dtype='object')\n",
      "<bound method DataFrame.info of          Name      School Grade  Score\n",
      "0    Student1   West High     A     92\n",
      "1    Student2  South High     F      6\n",
      "2    Student3  North High     D     64\n",
      "3    Student4   West High     B     88\n",
      "4    Student5   West High     A     96\n",
      "5    Student6  South High     A     91\n",
      "6    Student7  North High     B     83\n",
      "7    Student8  North High     C     78\n",
      "8    Student9   West High     B     81\n",
      "9   Student10   East High     B     89\n",
      "10  Student11   West High     C     78\n",
      "11  Student12   West High     A     99\n",
      "12  Student13   West High     B     84\n",
      "13  Student14   West High     B     81\n",
      "14  Student15  South High     B     83\n",
      "15  Student16  North High     C     76\n",
      "16  Student17  South High     A     97\n",
      "17  Student18  South High     C     72\n",
      "18  Student19  South High     C     70\n",
      "19  Student20   West High     A     93>\n",
      "<class 'pandas.core.frame.DataFrame'>\n",
      "RangeIndex: 20 entries, 0 to 19\n",
      "Data columns (total 4 columns):\n",
      " #   Column  Non-Null Count  Dtype \n",
      "---  ------  --------------  ----- \n",
      " 0   Name    20 non-null     object\n",
      " 1   School  20 non-null     object\n",
      " 2   Grade   20 non-null     object\n",
      " 3   Score   20 non-null     int64 \n",
      "dtypes: int64(1), object(3)\n",
      "memory usage: 772.0+ bytes\n",
      "None\n"
     ]
    }
   ],
   "source": [
    "#check the shape\n",
    "print(\"data frame:\", df.shape)\n",
    "\n",
    "#check the column names\n",
    "print(df.columns)\n",
    "\n",
    "#check the summary stats\n",
    "# print(df.describe())\n",
    "#information on data types and missing values\n",
    "print(df.info)\n",
    "print(df.info())\n"
   ]
  },
  {
   "cell_type": "code",
   "execution_count": 37,
   "id": "e11d0fab-1387-46e0-bc13-44ed9ae3c346",
   "metadata": {},
   "outputs": [
    {
     "name": "stdout",
     "output_type": "stream",
     "text": [
      "Name       Student1\n",
      "School    West High\n",
      "Grade             A\n",
      "Score            92\n",
      "Name: 0, dtype: object\n",
      "       Name      School Grade  Score\n",
      "0  Student1   West High     A     92\n",
      "1  Student2  South High     F      6\n",
      "2  Student3  North High     D     64\n",
      "       Name Grade\n",
      "0  Student1     A\n",
      "1  Student2     F\n",
      "2  Student3     D\n"
     ]
    }
   ],
   "source": [
    "#single column\n",
    "# print(df[\"Name\"])\n",
    "\n",
    "# #multiple columns\n",
    "# print(df[[\"Name\",\"School\",\"Grade\"]])\n",
    "\n",
    "#row by Label using loc\n",
    "print(df.loc[0])\n",
    "\n",
    "#specific rows and columns\n",
    "\n",
    "print(df.loc[0:2])\n",
    "\n",
    "# specify rows and columss\n",
    "print(df.loc[0:2, [\"Name\",\"Grade\"]])"
   ]
  },
  {
   "cell_type": "code",
   "execution_count": 44,
   "id": "eab095eb-3f0b-467b-863e-c89dc17c8d37",
   "metadata": {},
   "outputs": [
    {
     "name": "stdout",
     "output_type": "stream",
     "text": [
      "Name       Student1\n",
      "School    West High\n",
      "Grade             A\n",
      "Score            92\n",
      "Name: 0, dtype: object\n",
      "       Name      School\n",
      "0  Student1   West High\n",
      "1  Student2  South High\n"
     ]
    }
   ],
   "source": [
    "#iloc -uses numbers is exclusive\n",
    "print(df.iloc[0])\n",
    "\n",
    "#specify rows and columns\n",
    "print(df.iloc[0:2, 0:2])\n"
   ]
  },
  {
   "cell_type": "code",
   "execution_count": 75,
   "id": "5b6ef369-cb5a-4647-afa6-69db229b3469",
   "metadata": {},
   "outputs": [
    {
     "name": "stdout",
     "output_type": "stream",
     "text": [
      "       Name  Score\n",
      "0  Student1     92\n",
      "1  Student2      6\n",
      "2  Student3     64\n",
      "3  Student4     88\n",
      "All student from  West High West High :          Name     School Grade  Score\n",
      "0    Student1  West High     A     92\n",
      "3    Student4  West High     B     88\n",
      "4    Student5  West High     A     96\n",
      "8    Student9  West High     B     81\n",
      "10  Student11  West High     C     78\n",
      "11  Student12  West High     A     99\n",
      "12  Student13  West High     B     84\n",
      "13  Student14  West High     B     81\n",
      "19  Student20  West High     A     93\n",
      "18    70\n",
      "19    93\n",
      "Name: Score, dtype: int64\n",
      "         Name      School Grade  Score\n",
      "11  Student12   West High     A     99\n",
      "16  Student17  South High     A     97\n",
      "4    Student5   West High     A     96\n",
      "19  Student20   West High     A     93\n",
      "0    Student1   West High     A     92\n",
      "5    Student6  South High     A     91\n",
      "9   Student10   East High     B     89\n",
      "3    Student4   West High     B     88\n",
      "12  Student13   West High     B     84\n",
      "6    Student7  North High     B     83\n",
      "14  Student15  South High     B     83\n",
      "8    Student9   West High     B     81\n",
      "13  Student14   West High     B     81\n",
      "7    Student8  North High     C     78\n",
      "10  Student11   West High     C     78\n",
      "15  Student16  North High     C     76\n",
      "17  Student18  South High     C     72\n",
      "18  Student19  South High     C     70\n",
      "2    Student3  North High     D     64\n",
      "1    Student2  South High     F      6\n",
      "         Name      School Grade  Score\n",
      "0    Student1   West High     A     92\n",
      "3    Student4   West High     B     88\n",
      "4    Student5   West High     A     96\n",
      "5    Student6  South High     A     91\n",
      "6    Student7  North High     B     83\n",
      "8    Student9   West High     B     81\n",
      "9   Student10   East High     B     89\n",
      "11  Student12   West High     A     99\n",
      "12  Student13   West High     B     84\n",
      "13  Student14   West High     B     81\n",
      "14  Student15  South High     B     83\n",
      "16  Student17  South High     A     97\n",
      "19  Student20   West High     A     93\n"
     ]
    }
   ],
   "source": [
    "#Names and scored of first 3 students\n",
    "print(df.loc[0:3, [\"Name\",\"Score\"]])\n",
    "\n",
    "#all students from a specific school\n",
    "school_name =\"West High\"\n",
    "print(\"All student from  West High\",school_name, \":\",df[df[\"School\"]== school_name])\n",
    "\n",
    "\n",
    "#Scored of the last 2 students\n",
    "last2 = df.iloc[-2: ,df.columns.get_loc(\"Score\")]\n",
    "print(last2)\n",
    "\n",
    "#sort by descending order\n",
    "print(df.sort_values(by=\"Score\", ascending= False))\n",
    "\n",
    "#filter students with scores above 80\n",
    "print(df[df[\"Score\"]>80])\n",
    "\n",
    "#Average score per school\n",
    "\n"
   ]
  },
  {
   "cell_type": "code",
   "execution_count": null,
   "id": "493827fc-dee3-4066-bf18-099a9680931d",
   "metadata": {},
   "outputs": [],
   "source": []
  },
  {
   "cell_type": "code",
   "execution_count": null,
   "id": "3e3639e8-b055-4613-b6a8-f1358cfe06ed",
   "metadata": {},
   "outputs": [],
   "source": []
  }
 ],
 "metadata": {
  "kernelspec": {
   "display_name": "Python 3 (ipykernel)",
   "language": "python",
   "name": "python3"
  },
  "language_info": {
   "codemirror_mode": {
    "name": "ipython",
    "version": 3
   },
   "file_extension": ".py",
   "mimetype": "text/x-python",
   "name": "python",
   "nbconvert_exporter": "python",
   "pygments_lexer": "ipython3",
   "version": "3.13.7"
  }
 },
 "nbformat": 4,
 "nbformat_minor": 5
}
